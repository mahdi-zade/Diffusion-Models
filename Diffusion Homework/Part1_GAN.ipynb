{
  "nbformat": 4,
  "nbformat_minor": 0,
  "metadata": {
    "colab": {
      "provenance": [],
      "gpuType": "T4"
    },
    "kernelspec": {
      "name": "python3",
      "display_name": "Python 3"
    },
    "language_info": {
      "name": "python"
    },
    "accelerator": "GPU"
  },
  "cells": [
    {
      "cell_type": "markdown",
      "source": [
        "<div style=\"display:block\" direction=rtl align=right><br><br>\n",
        "    <div  style=\"width:100%;margin:100;display:block\"  display=block align=center>\n",
        "        <img width=130 align=right src=\"https://i.ibb.co/yXKQmtZ/logo1.png\" style=\"margin:0;\" />\n",
        "        <img width=170 align=left  src=\"https://i.ibb.co/wLjqFkw/logo2.png\" style=\"margin:0;\" />\n",
        "        <span><br><font size=5>University of Tehran , school of ECE</font></span>\n",
        "        <span><br><font size=3>Deep Generative Models Course</font></span>\n",
        "        <span><br><font size=3>Fall 2023</font></span>\n",
        "    </div><br><br><br>\n",
        "    <div style=\"display:block\" align=left display=block>\n",
        "        <font size=3>Homework 2 - Part 2</font><br>\n",
        "        <hr />\n",
        "        <font size=3>TA: <a href=\"mailto:p.zilouchian@ut.ac.ir\">Parham Zilouchian</a><br></font><br>\n",
        "        <font size=3>TA: <a href=\"mailto:alirezaghafouri@ut.ac.ir\">Alireza Ghafouri</a><br></font><br>\n",
        "        \n",
        "    </div>\n",
        "</div>"
      ],
      "metadata": {
        "id": "ceN9TKLMPjcL"
      }
    },
    {
      "cell_type": "markdown",
      "source": [
        "# Working with GANs using PyTorch\n",
        "\n",
        "This notebook is a homework assignment for the Deep Generative Models course at the University of Tehran. The goal of this assignment is to get familiar with the concept of Generative Adversarial Networks (GANs) and how to implement it with PyTorch. We will use the MNIST dataset for this assignment.\n",
        "\n",
        "---\n",
        "\n",
        "\n",
        "**Requisites**\n",
        "\n",
        "*   Python 3.x\n",
        "*   Jupyter\n",
        "*   PyTorch >= 1.8\n",
        "*   NumPy\n",
        "*   Matplotlib\n",
        "---"
      ],
      "metadata": {
        "id": "13CbqFIB52lb"
      }
    },
    {
      "cell_type": "code",
      "execution_count": null,
      "metadata": {
        "colab": {
          "base_uri": "https://localhost:8080/"
        },
        "id": "BdMSG6Zp4ey0",
        "outputId": "f6d202b5-ef24-43a5-e6ed-fbccb17b280f"
      },
      "outputs": [
        {
          "output_type": "stream",
          "name": "stdout",
          "text": [
            "               total        used        free      shared  buff/cache   available\n",
            "Mem:           12982         530       10008           1        2443       12176\n",
            "Swap:              0           0           0\n",
            "Filesystem      Size  Used Avail Use% Mounted on\n",
            "overlay          79G   27G   52G  35% /\n",
            "tmpfs            64M     0   64M   0% /dev\n",
            "shm             5.7G     0  5.7G   0% /dev/shm\n",
            "/dev/root       2.0G  1.1G  885M  55% /usr/sbin/docker-init\n",
            "/dev/sda1        50G   30G   21G  59% /opt/bin/.nvidia\n",
            "tmpfs           6.4G   44K  6.4G   1% /var/colab\n",
            "tmpfs           6.4G     0  6.4G   0% /proc/acpi\n",
            "tmpfs           6.4G     0  6.4G   0% /proc/scsi\n",
            "tmpfs           6.4G     0  6.4G   0% /sys/firmware\n",
            "Sun Nov 26 22:50:17 2023       \n",
            "+-----------------------------------------------------------------------------+\n",
            "| NVIDIA-SMI 525.105.17   Driver Version: 525.105.17   CUDA Version: 12.0     |\n",
            "|-------------------------------+----------------------+----------------------+\n",
            "| GPU  Name        Persistence-M| Bus-Id        Disp.A | Volatile Uncorr. ECC |\n",
            "| Fan  Temp  Perf  Pwr:Usage/Cap|         Memory-Usage | GPU-Util  Compute M. |\n",
            "|                               |                      |               MIG M. |\n",
            "|===============================+======================+======================|\n",
            "|   0  Tesla T4            Off  | 00000000:00:04.0 Off |                    0 |\n",
            "| N/A   62C    P8    10W /  70W |      0MiB / 15360MiB |      0%      Default |\n",
            "|                               |                      |                  N/A |\n",
            "+-------------------------------+----------------------+----------------------+\n",
            "                                                                               \n",
            "+-----------------------------------------------------------------------------+\n",
            "| Processes:                                                                  |\n",
            "|  GPU   GI   CI        PID   Type   Process name                  GPU Memory |\n",
            "|        ID   ID                                                   Usage      |\n",
            "|=============================================================================|\n",
            "|  No running processes found                                                 |\n",
            "+-----------------------------------------------------------------------------+\n"
          ]
        }
      ],
      "source": [
        "!free -m\n",
        "!df -h\n",
        "!nvidia-smi"
      ]
    },
    {
      "cell_type": "markdown",
      "source": [
        "# **Import Libraries:**\n",
        "\n",
        "Import your required libraries!"
      ],
      "metadata": {
        "id": "HC2hjO_16xcU"
      }
    },
    {
      "cell_type": "code",
      "source": [
        "import torch\n",
        "import torch.nn as nn\n",
        "import torchvision.datasets as datasets\n",
        "import torchvision.transforms as transforms\n",
        "import torch.optim as optim\n",
        "import torch.nn.functional as F\n",
        "import numpy as np\n",
        "import matplotlib.pyplot as plt\n",
        "import torchvision\n",
        "\n",
        "import argparse\n",
        "import numpy as np\n",
        "import os\n",
        "import torch\n",
        "import torchvision\n",
        "from torch import nn, optim\n",
        "from torch.nn import functional as F\n",
        "from torchvision.utils import save_image\n",
        "from tqdm import tqdm\n",
        "import torchvision.utils as vutils\n",
        "\n",
        "from torch import autograd, nn, optim\n",
        "from torch.nn import functional as F\n",
        "\n",
        "import argparse\n",
        "from pprint import pprint\n",
        "from torchvision import datasets, transforms"
      ],
      "metadata": {
        "id": "c-0r2NYZ6k4Q"
      },
      "execution_count": 1,
      "outputs": []
    },
    {
      "cell_type": "code",
      "source": [
        "use_cuda = torch.cuda.is_available()\n",
        "device = torch.device(\"cuda\" if use_cuda else \"cpu\");\n",
        "torch.manual_seed(1)"
      ],
      "metadata": {
        "id": "UuQrToSp64B3"
      },
      "execution_count": null,
      "outputs": []
    },
    {
      "cell_type": "markdown",
      "source": [
        "## **Downloading the dataset:**\n",
        "\n",
        "We will use the MNIST dataset for this assignment. The dataset is already available in PyTorch, so we just need to download it."
      ],
      "metadata": {
        "id": "y2BJPsY26qbY"
      }
    },
    {
      "cell_type": "code",
      "source": [
        "preprocess = transforms.ToTensor()\n",
        "train_loader = torch.utils.data.DataLoader(\n",
        "            datasets.MNIST(root='./data', train=True, download=True, transform=preprocess),\n",
        "            batch_size=128,\n",
        "            shuffle=True\n",
        "        )\n",
        "test_loader = torch.utils.data.DataLoader(\n",
        "            datasets.MNIST(root='./data', train=False, download=True, transform=preprocess),\n",
        "            batch_size=128,\n",
        "            shuffle=True\n",
        "        )\n",
        "\n",
        "# Create pre-processed training and test sets\n",
        "X_train = train_loader.dataset.data.to(device).reshape(-1, 784).float() / 255\n",
        "y_train = train_loader.dataset.data.to(device)\n",
        "X_test = test_loader.dataset.data.to(device).reshape(-1, 784).float() / 255\n",
        "y_test = test_loader.dataset.data.to(device)\n",
        "\n",
        "print('Train dataset shape: ', X_train.data.shape)\n",
        "print('Test dataset shape: ', y_train.data.shape)"
      ],
      "metadata": {
        "id": "9XMDl6xO6mQZ"
      },
      "execution_count": null,
      "outputs": []
    },
    {
      "cell_type": "code",
      "source": [
        "class Reshape(torch.nn.Module):\n",
        "    def __init__(self, *shape):\n",
        "        super().__init__()\n",
        "        self.shape = shape\n",
        "    def forward(self, x):\n",
        "        return x.reshape(x.size(0), *self.shape)\n",
        "\n",
        "\n",
        "class ReLU(torch.nn.Module):\n",
        "    def __init__(self):\n",
        "        super().__init__()\n",
        "    def forward(self, x):\n",
        "        return torch.maximum(x, torch.zeros_like(x))"
      ],
      "metadata": {
        "id": "mViiTort75hR"
      },
      "execution_count": 4,
      "outputs": []
    },
    {
      "cell_type": "markdown",
      "source": [
        "## **Define Generator:**\n",
        "\n",
        "We will use a simple 5-layer convolutional neural network for this assignment. The network is defined in the `Net` class below. The network is composed of 3 convolutional layers and 2 fully connected layers."
      ],
      "metadata": {
        "id": "nGEFjVJv7BcS"
      }
    },
    {
      "cell_type": "code",
      "source": [
        "class Generator(torch.nn.Module):\n",
        "    def __init__(self, z_dim=64, num_channels=1):\n",
        "        super().__init__()\n",
        "        self.z_dim = z_dim\n",
        "\n",
        "        ############################# TODO #############################\n",
        "        # Complete this part according to the introduced generator table on the provided manuscript!\n",
        "\n",
        "        # YOUR CODE STARTS HERE\n",
        "\n",
        "\n",
        "\n",
        "        # YOUR CODE ENDS HERE\n",
        "\n",
        "    def forward(self, z):\n",
        "        pass"
      ],
      "metadata": {
        "id": "G1FwF6wk66iW"
      },
      "execution_count": 5,
      "outputs": []
    },
    {
      "cell_type": "markdown",
      "source": [
        "## **Define Discriminator:**\n",
        "\n",
        "We will use a simple 5-layer convolutional neural network for this assignment. The network is defined in the `Net` class below. The network is composed of 3 convolutional layers and 2 fully connected layers."
      ],
      "metadata": {
        "id": "3ma0GeGU7ErX"
      }
    },
    {
      "cell_type": "code",
      "source": [
        "class Discriminator(torch.nn.Module):\n",
        "    def __init__(self, num_channels=1):\n",
        "        super().__init__()\n",
        "\n",
        "        ############################# TODO #############################\n",
        "        # Complete this part according to the introduced discriminator table on the provided manuscript!\n",
        "\n",
        "        # YOUR CODE STARTS HERE\n",
        "\n",
        "\n",
        "\n",
        "        # YOUR CODE ENDS HERE\n",
        "\n",
        "    def forward(self, x):\n",
        "        pass"
      ],
      "metadata": {
        "id": "EI1HHHfM7Hwr"
      },
      "execution_count": 6,
      "outputs": []
    },
    {
      "cell_type": "markdown",
      "source": [
        "## **Define Your GAN:**"
      ],
      "metadata": {
        "id": "YsWv1STH8zgn"
      }
    },
    {
      "cell_type": "code",
      "source": [
        "class GAN(nn.Module):\n",
        "    def __init__(self, z_dim=2):\n",
        "        super().__init__()\n",
        "        self.z_dim = z_dim\n",
        "        self.g = Generator(z_dim=z_dim)\n",
        "        self.d = Discriminator()   # note that discriminator outputs logits\n",
        "\n",
        "    def loss_nonsaturating(self, x_real, *, device):\n",
        "        '''\n",
        "        Input Arguments:\n",
        "\n",
        "        - x_real (torch.Tensor): training data samples (64, 1, 28, 28)\n",
        "        - device (torch.device): 'cpu' by default\n",
        "\n",
        "        Returns:\n",
        "        - d_loss (torch.Tensor): nonsaturating discriminator loss\n",
        "        - g_loss (torch.Tensor): nonsaturating generator loss\n",
        "        '''\n",
        "\n",
        "        ############################# TODO #############################\n",
        "        # YOUR CODE STARTS HERE\n",
        "\n",
        "\n",
        "\n",
        "        # YOUR CODE ENDS HERE\n",
        "\n",
        "\n",
        "        return None, None\n",
        "\n",
        "\n",
        ""
      ],
      "metadata": {
        "id": "BsK56XCd8xrN"
      },
      "execution_count": 7,
      "outputs": []
    },
    {
      "cell_type": "markdown",
      "source": [
        "## **Training Process:**"
      ],
      "metadata": {
        "id": "eDsS8ytN9zTv"
      }
    },
    {
      "cell_type": "code",
      "source": [
        "\n",
        "# Lists to keep track of progress\n",
        "img_list = []\n",
        "G_losses = []\n",
        "D_losses = []\n",
        "iters = 0\n",
        "\n",
        "class Trainer:\n",
        "    def __init__(self,\n",
        "                 model,\n",
        "                 optimizers,\n",
        "                 device=\"cuda\",\n",
        "                 iter_max=10000,\n",
        "                 iter_save=1000,\n",
        "                 num_latents=100,\n",
        "                 out_dir=\"\"\n",
        "            ):\n",
        "        self.model = model\n",
        "        self.optimizers = optimizers\n",
        "        self.device = device\n",
        "        self.iter_save = iter_save\n",
        "        self.iter_max = iter_max\n",
        "        self.out_dir = out_dir\n",
        "        self.num_latents = num_latents\n",
        "\n",
        "\n",
        "        # fix visualization latents\n",
        "        self.z_test = torch.randn(100, self.num_latents).to(device)\n",
        "\n",
        "\n",
        "    def build_input(self, x, y):\n",
        "        x_real = x.to(self.device)\n",
        "        y_real = y.to(self.device)\n",
        "        return x_real, y_real\n",
        "\n",
        "    def viz(self, global_step=1):\n",
        "        with torch.no_grad():\n",
        "            generator = self.model.g\n",
        "            generator.eval()\n",
        "            ############\n",
        "            fake = ((generator(self.z_test) + 1) / 2.) #.detach().cpu()\n",
        "            ###############\n",
        "            generator.train()\n",
        "        torchvision.utils.save_image(fake, '%s/fake_%04d.png' % (self.out_dir, global_step), nrow=10, padding=2, normalize=True)\n",
        "        img_list.append(vutils.make_grid(fake, padding=2, normalize=True, nrow=10))\n",
        "\n",
        "\n",
        "    def checkpoint_and_log(self, global_step, loss, summaries):\n",
        "        if global_step % self.iter_save == 0:\n",
        "            with torch.no_grad():\n",
        "                self.viz(global_step)\n",
        "                torch.save((self.model.g, self.model.d), '%s/model_%04d.pt' % (self.out_dir, global_step))\n",
        "\n",
        "\n",
        "    def gan_step(self, x_real, y_real):\n",
        "        assert len(self.optimizers) == 2\n",
        "\n",
        "\n",
        "        ############################# TODO #############################\n",
        "        # Here you should calculate the loss for both the generator and discriminator parts!\n",
        "        # After that, you have to apply this calculated loss to both the networks and update their weights respectively.\n",
        "        # Here you have to use the \"checkpoint_and_log\" function in order to visualize and make checkpoint from your model!\n",
        "\n",
        "        # YOUR CODE STARTS HERE\n",
        "\n",
        "\n",
        "\n",
        "        # YOUR CODE ENDS HERE\n",
        "\n",
        "        return None\n",
        "\n",
        "\n",
        "\n",
        "    def train(self, train_loader, reinit=False):\n",
        "        global_step = 0\n",
        "\n",
        "        # train model from scratch\n",
        "        if reinit:\n",
        "            ############################# TODO #############################\n",
        "            # OPTIONAL: Here you can Initialize your model if you want!\n",
        "\n",
        "            # YOUR CODE STARTS HERE\n",
        "\n",
        "\n",
        "\n",
        "            # YOUR CODE ENDS HERE\n",
        "            pass\n",
        "\n",
        "        # train models for multiple epochs\n",
        "        with tqdm(total=int(self.iter_max)) as pbar:\n",
        "            ############################# TODO #############################\n",
        "            # Here is your training loop!\n",
        "            # YOUR CODE STARTS HERE\n",
        "\n",
        "\n",
        "\n",
        "            # YOUR CODE ENDS HERE\n",
        "            pass"
      ],
      "metadata": {
        "id": "9unvk3VO91Yh"
      },
      "execution_count": 8,
      "outputs": []
    },
    {
      "cell_type": "code",
      "source": [
        "def build_model(device='cpu', num_latents=64):\n",
        "    model = GAN(z_dim=num_latents)\n",
        "    return model.to(device)\n",
        "\n",
        "\n",
        "def build_optimizers(model):\n",
        "    g_opt = torch.optim.Adam(model.g.parameters(), lr=1e-3)\n",
        "    d_opt = torch.optim.Adam(model.d.parameters(), lr=1e-3)\n",
        "    optimizers = [g_opt, d_opt]\n",
        "    return optimizers\n",
        "\n",
        "\n",
        "num_latents = 64\n",
        "device = torch.device('cuda' if torch.cuda.is_available() else 'cpu')\n",
        "model = build_model(device, num_latents=num_latents)\n",
        "optimizers = build_optimizers(model)\n",
        "\n",
        "\n",
        "trainer = Trainer(model, optimizers,\n",
        "                    device=device,\n",
        "                    iter_max=10000,\n",
        "                    num_latents=num_latents,\n",
        "                    out_dir='./'\n",
        "                  )\n",
        "\n",
        "trainer.train(train_loader)\n",
        "\n",
        "trainer.viz()"
      ],
      "metadata": {
        "colab": {
          "base_uri": "https://localhost:8080/"
        },
        "id": "mwzMBX0jDmCW",
        "outputId": "f1f5c2aa-41b2-41df-a637-124a819ed71f"
      },
      "execution_count": 9,
      "outputs": [
        {
          "output_type": "stream",
          "name": "stderr",
          "text": [
            "100%|██████████| 10000/10000 [04:03<00:00, 41.02it/s]\n"
          ]
        }
      ]
    },
    {
      "cell_type": "markdown",
      "source": [
        "## **Plot Losses:**"
      ],
      "metadata": {
        "id": "lehQgTE0DlD6"
      }
    },
    {
      "cell_type": "code",
      "source": [
        "############################# TODO #############################\n",
        "# Here, you should use the \"G_losses\", and \"D_losses\" in order to plot the \"Loss Values Variation Diagram\".\n",
        "\n",
        "# YOUR CODE STARTS HERE\n",
        "\n",
        "\n",
        "\n",
        "# YOUR CODE ENDS HERE"
      ],
      "metadata": {
        "id": "tW2_XrSaDqAa"
      },
      "execution_count": null,
      "outputs": []
    },
    {
      "cell_type": "markdown",
      "source": [
        "## **Visualization:**\n",
        "\n",
        "By using the \"img_list\" you can visualize the animation of changes that occurred during training."
      ],
      "metadata": {
        "id": "IQVPVIKW9JMi"
      }
    },
    {
      "cell_type": "code",
      "source": [
        "import matplotlib.animation as animation\n",
        "from IPython.display import HTML\n",
        "\n",
        "fig = plt.figure(figsize=(4, 4))\n",
        "plt.axis(\"off\")\n",
        "ims = [[plt.imshow(np.transpose(i.detach().cpu(), (1,2,0)), animated=True)] for i in img_list]\n",
        "ani = animation.ArtistAnimation(fig, ims, interval=1000, repeat_delay=1000, blit=True)\n",
        "\n",
        "HTML(ani.to_jshtml())"
      ],
      "metadata": {
        "id": "eGhbbD_hD6Z4"
      },
      "execution_count": null,
      "outputs": []
    },
    {
      "cell_type": "code",
      "source": [],
      "metadata": {
        "id": "LlTBSHE7nOh8"
      },
      "execution_count": 10,
      "outputs": []
    }
  ]
}